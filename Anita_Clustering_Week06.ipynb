{
  "nbformat": 4,
  "nbformat_minor": 0,
  "metadata": {
    "colab": {
      "provenance": []
    },
    "kernelspec": {
      "name": "python3",
      "display_name": "Python 3"
    },
    "language_info": {
      "name": "python"
    }
  },
  "cells": [
    {
      "cell_type": "code",
      "execution_count": 1,
      "metadata": {
        "id": "yubw1013CQDe"
      },
      "outputs": [],
      "source": [
        "from google.colab import drive #Library ini khusus untuk Google Colab dan menyediakan fungsi-fungsi untuk berinteraksi dengan lingkungan Colab, seperti mengakses Google Drive (drive).\n",
        "import pandas as pd #digunakan untuk manipulasi dan analisis data.\n",
        "from sklearn.cluster import KMeans, MiniBatchKMeans #Library ini berisi berbagai algoritma clustering seperti KMeans, MiniBatchKMeans, dan AgglomerativeClustering digunakan untuk mengelompokkan data.\n",
        "from sklearn.preprocessing import StandardScaler #Library ini menyediakan fungsi-fungsi untuk melakukan preprocessing data, seperti standarisasi fitur menggunakan StandardScaler.\n",
        "from sklearn.cluster import KMeans, AgglomerativeClustering #Library ini berisi berbagai algoritma clustering seperti KMeans, MiniBatchKMeans, dan AgglomerativeClustering digunakan untuk mengelompokkan data.\n",
        "from sklearn.metrics import silhouette_score, davies_bouldin_score #Library ini berisi fungsi-fungsi untuk mengevaluasi kinerja model machine learning, termasuk clustering digunakan untuk menghitung silhouette score, davies bouldin score, dan calinski harabasz score.\n",
        "from scipy.spatial.distance import cdist #Library ini menyediakan fungsi-fungsi untuk menghitung jarak antara titik-titik data, seperti cdist.\n",
        "from scipy.cluster.hierarchy import dendrogram, linkage #Library ini menyediakan fungsi-fungsi untuk melakukan hierarchical clustering dan membuat dendrogram menggunakan dendrogram dan linkage.\n",
        "from sklearn.metrics import calinski_harabasz_score ##Library ini berisi fungsi-fungsi untuk mengevaluasi kinerja model machine learning, termasuk clustering digunakan untuk menghitung silhouette score, davies bouldin score, dan calinski harabasz score.\n",
        "from sklearn.metrics import silhouette_samples #Library ini berisi fungsi-fungsi untuk mengevaluasi kinerja model machine learning, termasuk clustering digunakan untuk menghitung silhouette score, davies bouldin score, dan calinski harabasz score.\n",
        "import matplotlib.pyplot as plt #Library ini digunakan untuk membuat visualisasi data, seperti plot dan grafik.\n",
        "import numpy as np #Library ini menyediakan fungsi-fungsi untuk melakukan operasi matematika dan numerik pada array multidimensi."
      ]
    },
    {
      "cell_type": "code",
      "source": [
        "data = pd.read_csv('/content/clusteringweek06.csv')\n",
        "#membaca data"
      ],
      "metadata": {
        "id": "XGA8QHUcDuYa"
      },
      "execution_count": 4,
      "outputs": []
    },
    {
      "cell_type": "code",
      "source": [
        "chunk_size = 1000\n",
        "data_list = []\n",
        "for chunk in pd.read_csv('clusteringweek06.csv', chunksize=chunk_size):\n",
        "    data_list.append(chunk)\n",
        "#membaca data dalam chunks\n",
        "\n",
        "data = pd.concat(data_list, ignore_index=True)\n",
        "#menggabungkan data dari chunks"
      ],
      "metadata": {
        "id": "297JnebzD_55"
      },
      "execution_count": 5,
      "outputs": []
    },
    {
      "cell_type": "code",
      "source": [
        "data = pd.concat(data_list, axis=0)\n",
        "data_sampled = data.sample(frac=0.1, random_state=0)\n",
        "#menggabungkan semua chunks menjadi satu DataFrame yang lebih kecil"
      ],
      "metadata": {
        "id": "zTZm1u_6EKjs"
      },
      "execution_count": 6,
      "outputs": []
    },
    {
      "cell_type": "code",
      "source": [
        "scaler = StandardScaler()\n",
        "data_scaled = scaler.fit_transform(data_sampled)\n",
        "#standarisasi data numerik"
      ],
      "metadata": {
        "id": "fyACEsmnER5H"
      },
      "execution_count": 7,
      "outputs": []
    },
    {
      "cell_type": "code",
      "source": [
        "kmeans = KMeans(n_clusters=3, random_state=0)\n",
        "kmeans_labels = kmeans.fit_predict(data_scaled)\n",
        "#K-Means clustering\n",
        "\n",
        "kmeans_silhouette = silhouette_score(data_scaled, kmeans_labels)\n",
        "kmeans_davies = davies_bouldin_score(data_scaled, kmeans_labels)\n",
        "kmeans_calinski = calinski_harabasz_score(data_scaled, kmeans_labels)\n",
        "\n",
        "print(\"K-Means Silhouette Score:\", kmeans_silhouette)\n",
        "print(\"K-Means Davies-Bouldin Score:\", kmeans_davies)\n",
        "print(\"K-Means Calinski-Harabasz Score:\", kmeans_calinski)\n",
        "#mengitung nilai Silhouette dan Davies-Bouldin untuk KMeans"
      ],
      "metadata": {
        "colab": {
          "base_uri": "https://localhost:8080/"
        },
        "id": "mR8ImLfhEaKb",
        "outputId": "aae89671-f24b-4c16-9653-3757a56a60dc"
      },
      "execution_count": 8,
      "outputs": [
        {
          "output_type": "stream",
          "name": "stdout",
          "text": [
            "K-Means Silhouette Score: 0.18735384032613425\n",
            "K-Means Davies-Bouldin Score: 1.3798722085537432\n",
            "K-Means Calinski-Harabasz Score: 196.3621230918941\n"
          ]
        }
      ]
    },
    {
      "cell_type": "code",
      "source": [
        "minibatch_kmeans = MiniBatchKMeans(n_clusters=3, random_state=0, batch_size=100)\n",
        "minibatch_labels = minibatch_kmeans.fit_predict(data_scaled)\n",
        "# MiniBatchKMeans clustering\n",
        "\n",
        "minibatch_silhouette = silhouette_score(data_scaled, minibatch_labels)\n",
        "minibatch_davies = davies_bouldin_score(data_scaled, minibatch_labels)\n",
        "minibatch_calinski = calinski_harabasz_score(data_scaled, minibatch_labels)\n",
        "\n",
        "print(\"MiniBatchKMeans Silhouette Score:\", minibatch_silhouette)\n",
        "print(\"MiniBatchKMeans Davies-Bouldin Score:\", minibatch_davies)\n",
        "print(\"MiniBatchKMeans Calinski-Harabasz Score:\", minibatch_calinski)\n",
        "#menghitung nilai Silhouette dan Davies-Bouldin untuk MiniBatchKMeans\n"
      ],
      "metadata": {
        "colab": {
          "base_uri": "https://localhost:8080/"
        },
        "id": "enaOggzNEh1B",
        "outputId": "62a54405-abeb-45e1-b057-a90866e9bd17"
      },
      "execution_count": 10,
      "outputs": [
        {
          "output_type": "stream",
          "name": "stdout",
          "text": [
            "MiniBatchKMeans Silhouette Score: 0.3229145860759916\n",
            "MiniBatchKMeans Davies-Bouldin Score: 1.2621642842524174\n",
            "MiniBatchKMeans Calinski-Harabasz Score: 211.46758667962467\n"
          ]
        }
      ]
    },
    {
      "cell_type": "code",
      "source": [
        "agglo = AgglomerativeClustering(n_clusters=3)\n",
        "agglo_labels = agglo.fit_predict(data_scaled)\n",
        "# Agglomerative clustering\n",
        "\n",
        "agglo_silhouette = silhouette_score(data_scaled, agglo_labels)\n",
        "agglo_davies = davies_bouldin_score(data_scaled, agglo_labels)\n",
        "agglo_calinski = calinski_harabasz_score(data_scaled, agglo_labels)\n",
        "\n",
        "print(\"Agglomerative Clustering Silhouette Score:\", agglo_silhouette)\n",
        "print(\"Agglomerative Clustering Davies-Bouldin Score:\", agglo_davies)\n",
        "print(\"Agglomerative Clustering Calinski-Harabasz Score:\", agglo_calinski)\n",
        "#menghitung nilai Silhouette dan Davies-Bouldin untuk Agglomerative Clustering"
      ],
      "metadata": {
        "colab": {
          "base_uri": "https://localhost:8080/"
        },
        "id": "eEUs6Mm1EsGp",
        "outputId": "8159084b-3002-4d79-d89c-d0ab2094e410"
      },
      "execution_count": 11,
      "outputs": [
        {
          "output_type": "stream",
          "name": "stdout",
          "text": [
            "Agglomerative Clustering Silhouette Score: 0.34170927768963266\n",
            "Agglomerative Clustering Davies-Bouldin Score: 1.471133488100411\n",
            "Agglomerative Clustering Calinski-Harabasz Score: 227.52279278362747\n"
          ]
        }
      ]
    },
    {
      "cell_type": "code",
      "source": [
        "from scipy.spatial.distance import cdist\n",
        "\n",
        "distortions = []\n",
        "K = range(1, 10)\n",
        "for k in K:\n",
        "    kmeans = KMeans(n_clusters=k, random_state=0)\n",
        "    kmeans.fit(data_scaled)\n",
        "    distortions.append(sum(np.min(cdist(data_scaled, kmeans.cluster_centers_, 'euclidean'), axis=1)) / data_scaled.shape[0])\n",
        "\n",
        "plt.plot(K, distortions, 'x-', color='magenta')\n",
        "plt.xlabel('Number of clusters')\n",
        "plt.ylabel('Distortion')\n",
        "plt.title('Elbow Method for Optimal k')\n",
        "plt.show()\n",
        "#menentukan jumlah cluster yang paling tepat untuk dataset saat menggunakan algoritma KMeans."
      ],
      "metadata": {
        "colab": {
          "base_uri": "https://localhost:8080/",
          "height": 472
        },
        "id": "mUz69qyME3Dz",
        "outputId": "96d75818-a7ec-4e57-da32-16ecf5d7f4df"
      },
      "execution_count": 12,
      "outputs": [
        {
          "output_type": "display_data",
          "data": {
            "text/plain": [
              "<Figure size 640x480 with 1 Axes>"
            ],
            "image/png": "[encoded data removed]"
          },
          "metadata": {}
        }
      ]
    },
    {
      "cell_type": "markdown",
      "source": [
        "- Silhouette Score: Dari ketiga model,\n",
        "KMeans Silhouette memiliki Score paling tinggi, artinya cluster yang dihasilkan cukup jelas dan terpisah satu sama lain. MiniBatchKMeans sedikit di bawah KMeans, tapi masih oke karena cluster-nya juga cukup terpisah. Sebaliknya, Agglomerative Clustering dapat skor paling rendah, yang menunjukkan cluster-nya saling tumpang tindih dan kurang rapi.\n",
        "\n",
        "- Davies-Bouldin Score: KMeans lagi-lagi unggul dengan Davies-Bouldin Score paling kecil, yang artinya cluster-nya kompak dan berjauhan satu sama lain. MiniBatchKMeans skor-nya sedikit lebih besar dari KMeans, jadi cluster-nya sedikit kurang kompak. Sementara itu, Agglomerative Clustering punya skor tertinggi, yang menunjukkan cluster-nya kurang rapat dan cenderung berdekatan, jadi hasilnya kurang bagus.\n",
        "\n",
        "- Calinski-Harabasz Score: KMeans kembali menang dengan Calinski-Harabasz Score tertinggi, artinya cluster yang dibuat punya densitas bagus dan jarak antar cluster cukup besar. MiniBatchKMeans skornya lumayan mendekati KMeans, jadi masih cukup baik. Tetapi, Agglomerative Clustering skornya paling rendah, menunjukkan cluster-nya cenderung kurang padat dan tidak terlalu terpisah.\n",
        "\n",
        "Kesimpulannya, KMeans adalah model pilihan terbaik untuk dataset ini karena performanya bagus di semua metrik. MiniBatchKMeans bisa menjadi alternatif, sementara Agglomerative Clustering kurang cocok karena performanya yang rendah di semua aspek."
      ],
      "metadata": {
        "id": "l7WH3NLoFj2W"
      }
    }
  ]
}